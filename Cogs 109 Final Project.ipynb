{
 "cells": [
  {
   "cell_type": "markdown",
   "metadata": {},
   "source": [
    "# Prompt\n",
    "\n",
    "Type 2 diabetes is becomming a bigger problem globally, especially in the United States. Diabetes is mediated by insulin, which limits the amount of sugar in the blood stream. Knowing that different gene expressions can lead to different proteins, which can in turn influence how we produce and excrete insulin, we believe there are specific genes involved in this process of excreting insulin. We are searching for datasets containing cell information for both diabetic and non-diabetic people. \n"
   ]
  },
  {
   "cell_type": "markdown",
   "metadata": {},
   "source": [
    "# "
   ]
  }
 ],
 "metadata": {
  "kernelspec": {
   "display_name": "Python 3",
   "language": "python",
   "name": "python3"
  },
  "language_info": {
   "codemirror_mode": {
    "name": "ipython",
    "version": 3
   },
   "file_extension": ".py",
   "mimetype": "text/x-python",
   "name": "python",
   "nbconvert_exporter": "python",
   "pygments_lexer": "ipython3",
   "version": "3.6.4"
  }
 },
 "nbformat": 4,
 "nbformat_minor": 2
}
